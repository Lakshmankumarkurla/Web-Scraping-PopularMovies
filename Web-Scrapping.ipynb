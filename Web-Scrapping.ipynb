{
 "cells": [
  {
   "cell_type": "code",
   "execution_count": 2,
   "id": "9aabe021",
   "metadata": {},
   "outputs": [
    {
     "name": "stdout",
     "output_type": "stream",
     "text": [
      "Defaulting to user installation because normal site-packages is not writeable\n",
      "Requirement already satisfied: requests in c:\\programdata\\anaconda3\\lib\\site-packages (2.27.1)\n",
      "Requirement already satisfied: idna<4,>=2.5 in c:\\programdata\\anaconda3\\lib\\site-packages (from requests) (3.3)\n",
      "Requirement already satisfied: charset-normalizer~=2.0.0 in c:\\programdata\\anaconda3\\lib\\site-packages (from requests) (2.0.4)\n",
      "Requirement already satisfied: urllib3<1.27,>=1.21.1 in c:\\programdata\\anaconda3\\lib\\site-packages (from requests) (1.26.9)\n",
      "Requirement already satisfied: certifi>=2017.4.17 in c:\\programdata\\anaconda3\\lib\\site-packages (from requests) (2021.10.8)\n",
      "Note: you may need to restart the kernel to use updated packages.\n"
     ]
    }
   ],
   "source": [
    "pip install requests\n"
   ]
  },
  {
   "cell_type": "markdown",
   "id": "cb6e3773",
   "metadata": {},
   "source": [
    "# Outline:\n",
    "\n",
    "## We are going to scrap https://www.imdb.com/chart/moviemeter/?ref_=nv_mv_mpm\n",
    "## we'll get a list of movie name's along with we'll get movie name,movie url\n",
    "## format of each movie \n",
    "## Movie Name,Movie Released Year,Movie overview,Movie Cast"
   ]
  },
  {
   "cell_type": "code",
   "execution_count": 3,
   "id": "0f84203c",
   "metadata": {},
   "outputs": [],
   "source": [
    "import requests"
   ]
  },
  {
   "cell_type": "markdown",
   "id": "9b67bd09",
   "metadata": {},
   "source": [
    "## Use requests library to download web pages\n"
   ]
  },
  {
   "cell_type": "code",
   "execution_count": 4,
   "id": "639ae250",
   "metadata": {},
   "outputs": [],
   "source": [
    "movies_url = 'https://www.imdb.com/chart/moviemeter/?ref_=nv_mv_mpm'"
   ]
  },
  {
   "cell_type": "code",
   "execution_count": 5,
   "id": "aae47b35",
   "metadata": {},
   "outputs": [],
   "source": [
    "response = requests.get(movies_url)"
   ]
  },
  {
   "cell_type": "code",
   "execution_count": 6,
   "id": "34743f55",
   "metadata": {},
   "outputs": [
    {
     "data": {
      "text/plain": [
       "200"
      ]
     },
     "execution_count": 6,
     "metadata": {},
     "output_type": "execute_result"
    }
   ],
   "source": [
    "response.status_code"
   ]
  },
  {
   "cell_type": "code",
   "execution_count": 7,
   "id": "613bf967",
   "metadata": {},
   "outputs": [
    {
     "data": {
      "text/plain": [
       "334544"
      ]
     },
     "execution_count": 7,
     "metadata": {},
     "output_type": "execute_result"
    }
   ],
   "source": [
    "len(response.text)"
   ]
  },
  {
   "cell_type": "code",
   "execution_count": 8,
   "id": "f01fc6de",
   "metadata": {},
   "outputs": [],
   "source": [
    "page_content = response.text"
   ]
  },
  {
   "cell_type": "code",
   "execution_count": 9,
   "id": "6ba107c1",
   "metadata": {},
   "outputs": [],
   "source": [
    "with open('webpage.html','w',encoding=\"utf-8\") as f:\n",
    "    f.write(page_content)"
   ]
  },
  {
   "cell_type": "markdown",
   "id": "41020032",
   "metadata": {},
   "source": [
    "# Use Beautiful Soap to parse and extract information"
   ]
  },
  {
   "cell_type": "code",
   "execution_count": 10,
   "id": "45b0e472",
   "metadata": {},
   "outputs": [
    {
     "name": "stdout",
     "output_type": "stream",
     "text": [
      "Note: you may need to restart the kernel to use updated packages.\n"
     ]
    }
   ],
   "source": [
    "pip install beautifulsoup4 --upgrade --quiet"
   ]
  },
  {
   "cell_type": "code",
   "execution_count": 11,
   "id": "2f50c8ef",
   "metadata": {},
   "outputs": [],
   "source": [
    "from bs4 import BeautifulSoup"
   ]
  },
  {
   "cell_type": "markdown",
   "id": "9009546d",
   "metadata": {},
   "source": [
    "# Here the Doc contains plain Html "
   ]
  },
  {
   "cell_type": "code",
   "execution_count": 12,
   "id": "fee0f30d",
   "metadata": {},
   "outputs": [],
   "source": [
    "doc = BeautifulSoup(page_content,'html.parser')"
   ]
  },
  {
   "cell_type": "markdown",
   "id": "56292d11",
   "metadata": {},
   "source": [
    "# Tip To parse the content:\n",
    "### Use Loops while finding for different Nested Elements"
   ]
  },
  {
   "cell_type": "code",
   "execution_count": 13,
   "id": "bc6d0b69",
   "metadata": {},
   "outputs": [],
   "source": [
    "def get_movie_name(doc):\n",
    "    movie_name = []\n",
    "    for tag in doc.find_all('td',class_='titleColumn'):\n",
    "        for atag in tag.find_all('a'):\n",
    "            movie_name.append(atag.text)\n",
    "            \n",
    "    return movie_name        "
   ]
  },
  {
   "cell_type": "code",
   "execution_count": 14,
   "id": "543c98c7",
   "metadata": {},
   "outputs": [],
   "source": [
    "titles = get_movie_name(doc)"
   ]
  },
  {
   "cell_type": "code",
   "execution_count": 15,
   "id": "92cd5eef",
   "metadata": {},
   "outputs": [
    {
     "name": "stdout",
     "output_type": "stream",
     "text": [
      "<class 'list'>\n"
     ]
    }
   ],
   "source": [
    "print(type(titles))\n"
   ]
  },
  {
   "cell_type": "code",
   "execution_count": 16,
   "id": "bc8d369b",
   "metadata": {},
   "outputs": [],
   "source": [
    "def get_movie_url(doc):\n",
    "    movie_url = []\n",
    "    for tag in doc.find_all('td',class_='titleColumn'):\n",
    "        for atag in tag.find_all('a'):\n",
    "            base_url = 'https://www.imdb.com'\n",
    "            movie_url.append(base_url+atag['href'])\n",
    "            \n",
    "    return movie_url \n",
    "    "
   ]
  },
  {
   "cell_type": "code",
   "execution_count": 17,
   "id": "651163c4",
   "metadata": {},
   "outputs": [
    {
     "data": {
      "text/plain": [
       "100"
      ]
     },
     "execution_count": 17,
     "metadata": {},
     "output_type": "execute_result"
    }
   ],
   "source": [
    "movieURLs = get_movie_url(doc)\n",
    "len(movieURLs)"
   ]
  },
  {
   "cell_type": "code",
   "execution_count": 18,
   "id": "c95bc25c",
   "metadata": {},
   "outputs": [],
   "source": [
    "def get_rating(doc):\n",
    "    movie_rating = []\n",
    "    k = 0\n",
    "    for tag in doc.find_all('td',class_='ratingColumn imdbRating'):\n",
    "        if tag.strong!=None:\n",
    "            movie_rating.append(tag.strong.text)\n",
    "        else:\n",
    "            movie_rating.insert(k,0)\n",
    "        k = k+1    \n",
    "    return movie_rating\n",
    "    "
   ]
  },
  {
   "cell_type": "code",
   "execution_count": 19,
   "id": "714f216f",
   "metadata": {},
   "outputs": [
    {
     "data": {
      "text/plain": [
       "'7.6'"
      ]
     },
     "execution_count": 19,
     "metadata": {},
     "output_type": "execute_result"
    }
   ],
   "source": [
    "movie_ratings = get_rating(doc)\n",
    "movie_ratings[3]\n"
   ]
  },
  {
   "cell_type": "code",
   "execution_count": 20,
   "id": "8c525355",
   "metadata": {},
   "outputs": [],
   "source": [
    "import pandas as pd"
   ]
  },
  {
   "cell_type": "code",
   "execution_count": 21,
   "id": "3178ed3c",
   "metadata": {},
   "outputs": [],
   "source": [
    "movies_list= {\n",
    "    'title':titles,\n",
    "    'rating':movie_ratings,\n",
    "    'url':movieURLs\n",
    "}"
   ]
  },
  {
   "cell_type": "code",
   "execution_count": 22,
   "id": "0d0bbac4",
   "metadata": {},
   "outputs": [],
   "source": [
    "movies_list_df = pd.DataFrame(movies_list)"
   ]
  },
  {
   "cell_type": "markdown",
   "id": "4aaff936",
   "metadata": {},
   "source": [
    "# Here is the File with Movie Title,Movie Rating,Movie URL\n"
   ]
  },
  {
   "cell_type": "code",
   "execution_count": 90,
   "id": "513e4b45",
   "metadata": {},
   "outputs": [],
   "source": [
    "movies_list"
   ]
  },
  {
   "cell_type": "code",
   "execution_count": 24,
   "id": "5386ee7e",
   "metadata": {},
   "outputs": [
    {
     "data": {
      "text/html": [
       "<div>\n",
       "<style scoped>\n",
       "    .dataframe tbody tr th:only-of-type {\n",
       "        vertical-align: middle;\n",
       "    }\n",
       "\n",
       "    .dataframe tbody tr th {\n",
       "        vertical-align: top;\n",
       "    }\n",
       "\n",
       "    .dataframe thead th {\n",
       "        text-align: right;\n",
       "    }\n",
       "</style>\n",
       "<table border=\"1\" class=\"dataframe\">\n",
       "  <thead>\n",
       "    <tr style=\"text-align: right;\">\n",
       "      <th></th>\n",
       "      <th>title</th>\n",
       "      <th>rating</th>\n",
       "      <th>url</th>\n",
       "    </tr>\n",
       "  </thead>\n",
       "  <tbody>\n",
       "    <tr>\n",
       "      <th>0</th>\n",
       "      <td>The Flash</td>\n",
       "      <td>7.3</td>\n",
       "      <td>https://www.imdb.com/title/tt0439572/</td>\n",
       "    </tr>\n",
       "    <tr>\n",
       "      <th>1</th>\n",
       "      <td>Spider-Man: Across the Spider-Verse</td>\n",
       "      <td>9.0</td>\n",
       "      <td>https://www.imdb.com/title/tt9362722/</td>\n",
       "    </tr>\n",
       "    <tr>\n",
       "      <th>2</th>\n",
       "      <td>Transformers: Rise of the Beasts</td>\n",
       "      <td>6.6</td>\n",
       "      <td>https://www.imdb.com/title/tt5090568/</td>\n",
       "    </tr>\n",
       "    <tr>\n",
       "      <th>3</th>\n",
       "      <td>Avatar: The Way of Water</td>\n",
       "      <td>7.6</td>\n",
       "      <td>https://www.imdb.com/title/tt1630029/</td>\n",
       "    </tr>\n",
       "    <tr>\n",
       "      <th>4</th>\n",
       "      <td>The Little Mermaid</td>\n",
       "      <td>7.2</td>\n",
       "      <td>https://www.imdb.com/title/tt5971474/</td>\n",
       "    </tr>\n",
       "    <tr>\n",
       "      <th>...</th>\n",
       "      <td>...</td>\n",
       "      <td>...</td>\n",
       "      <td>...</td>\n",
       "    </tr>\n",
       "    <tr>\n",
       "      <th>95</th>\n",
       "      <td>Harry Potter and the Sorcerer's Stone</td>\n",
       "      <td>7.6</td>\n",
       "      <td>https://www.imdb.com/title/tt0241527/</td>\n",
       "    </tr>\n",
       "    <tr>\n",
       "      <th>96</th>\n",
       "      <td>Joy Ride</td>\n",
       "      <td>6.5</td>\n",
       "      <td>https://www.imdb.com/title/tt15268244/</td>\n",
       "    </tr>\n",
       "    <tr>\n",
       "      <th>97</th>\n",
       "      <td>Bumblebee</td>\n",
       "      <td>6.7</td>\n",
       "      <td>https://www.imdb.com/title/tt4701182/</td>\n",
       "    </tr>\n",
       "    <tr>\n",
       "      <th>98</th>\n",
       "      <td>Indiana Jones and the Last Crusade</td>\n",
       "      <td>8.2</td>\n",
       "      <td>https://www.imdb.com/title/tt0097576/</td>\n",
       "    </tr>\n",
       "    <tr>\n",
       "      <th>99</th>\n",
       "      <td>Tár</td>\n",
       "      <td>7.5</td>\n",
       "      <td>https://www.imdb.com/title/tt14444726/</td>\n",
       "    </tr>\n",
       "  </tbody>\n",
       "</table>\n",
       "<p>100 rows × 3 columns</p>\n",
       "</div>"
      ],
      "text/plain": [
       "                                    title rating  \\\n",
       "0                               The Flash    7.3   \n",
       "1     Spider-Man: Across the Spider-Verse    9.0   \n",
       "2        Transformers: Rise of the Beasts    6.6   \n",
       "3                Avatar: The Way of Water    7.6   \n",
       "4                      The Little Mermaid    7.2   \n",
       "..                                    ...    ...   \n",
       "95  Harry Potter and the Sorcerer's Stone    7.6   \n",
       "96                               Joy Ride    6.5   \n",
       "97                              Bumblebee    6.7   \n",
       "98     Indiana Jones and the Last Crusade    8.2   \n",
       "99                                    Tár    7.5   \n",
       "\n",
       "                                       url  \n",
       "0    https://www.imdb.com/title/tt0439572/  \n",
       "1    https://www.imdb.com/title/tt9362722/  \n",
       "2    https://www.imdb.com/title/tt5090568/  \n",
       "3    https://www.imdb.com/title/tt1630029/  \n",
       "4    https://www.imdb.com/title/tt5971474/  \n",
       "..                                     ...  \n",
       "95   https://www.imdb.com/title/tt0241527/  \n",
       "96  https://www.imdb.com/title/tt15268244/  \n",
       "97   https://www.imdb.com/title/tt4701182/  \n",
       "98   https://www.imdb.com/title/tt0097576/  \n",
       "99  https://www.imdb.com/title/tt14444726/  \n",
       "\n",
       "[100 rows x 3 columns]"
      ]
     },
     "execution_count": 24,
     "metadata": {},
     "output_type": "execute_result"
    }
   ],
   "source": [
    "movies_list_df"
   ]
  },
  {
   "cell_type": "code",
   "execution_count": 25,
   "id": "8d7404ce",
   "metadata": {},
   "outputs": [],
   "source": [
    "movies_list_df.to_csv('movies_list.csv')"
   ]
  },
  {
   "cell_type": "code",
   "execution_count": 26,
   "id": "5e5df8bc",
   "metadata": {},
   "outputs": [
    {
     "data": {
      "text/plain": [
       "'https://www.imdb.com/title/tt0439572/'"
      ]
     },
     "execution_count": 26,
     "metadata": {},
     "output_type": "execute_result"
    }
   ],
   "source": [
    "movies_list_df.url[0]"
   ]
  },
  {
   "cell_type": "markdown",
   "id": "504b05bc",
   "metadata": {},
   "source": [
    "# Here Access has been denied by server so we need a header to tell the server that we are not with Unauthorized access  "
   ]
  },
  {
   "cell_type": "code",
   "execution_count": 28,
   "id": "cd101e85",
   "metadata": {},
   "outputs": [],
   "source": [
    "headers = {'User-Agent':\n",
    "'Mozilla/5.0 (Windows NT 10.0; Win64; x64) AppleWebKit/537.36 (KHTML, like Gecko) Chrome/114.0.0.0 Safari/537.36'}"
   ]
  },
  {
   "cell_type": "code",
   "execution_count": 29,
   "id": "c136276f",
   "metadata": {},
   "outputs": [],
   "source": [
    "response = requests.get(movies_list_df.url[0],headers= headers)"
   ]
  },
  {
   "cell_type": "code",
   "execution_count": 30,
   "id": "2dd082ee",
   "metadata": {},
   "outputs": [
    {
     "data": {
      "text/plain": [
       "200"
      ]
     },
     "execution_count": 30,
     "metadata": {},
     "output_type": "execute_result"
    }
   ],
   "source": [
    "response.status_code"
   ]
  },
  {
   "cell_type": "code",
   "execution_count": 31,
   "id": "1c312569",
   "metadata": {},
   "outputs": [],
   "source": [
    "page_content = response.text"
   ]
  },
  {
   "cell_type": "code",
   "execution_count": 32,
   "id": "255ceaba",
   "metadata": {},
   "outputs": [],
   "source": [
    "doc = BeautifulSoup(page_content,'html.parser')"
   ]
  },
  {
   "cell_type": "markdown",
   "id": "95f61876",
   "metadata": {},
   "source": [
    "# Tip : Try to implement For a Single Page At a time and then Apply Loop to iterate over pages"
   ]
  },
  {
   "cell_type": "code",
   "execution_count": 33,
   "id": "751f9e81",
   "metadata": {},
   "outputs": [
    {
     "name": "stdout",
     "output_type": "stream",
     "text": [
      "The Flash\n",
      "2023\n",
      "Barry Allen uses his super speed to change the past, but his attempt to save his family creates a world without super heroes, forcing him to race for his life in order to save the future.\n"
     ]
    }
   ],
   "source": [
    "for tag in doc.find_all('div',class_='sc-52d569c6-0 kNzJA-D'):\n",
    "    for spantag in tag.find_all('span',class_ = 'sc-afe43def-1 fDTGTb'):\n",
    "        print(spantag.text)\n",
    "        \n",
    "    a = []\n",
    "    for ultag in tag.find_all('ul',class_='ipc-inline-list ipc-inline-list--show-dividers sc-afe43def-4 kdXikI baseAlt'):\n",
    "        for litag in ultag.find_all('li',class_='ipc-inline-list__item'):\n",
    "            a.append(litag.text)\n",
    "    print(a[0])        \n",
    "            \n",
    "       \n",
    "    for spantag in doc.find_all('span',class_= 'sc-cd57914c-2 cXtXlS'):\n",
    "        print(spantag.text)"
   ]
  },
  {
   "cell_type": "markdown",
   "id": "569d2a47",
   "metadata": {},
   "source": [
    "# Here is the  Final Solution"
   ]
  },
  {
   "cell_type": "code",
   "execution_count": 75,
   "id": "ff60f0dd",
   "metadata": {},
   "outputs": [],
   "source": [
    "top_100_most_popular_movies={\n",
    "    'Movie Name':[],\n",
    "    'Movie Released Year':[],\n",
    "    'Movie overview':[],\n",
    "    'Movie Cast':[]\n",
    "}"
   ]
  },
  {
   "cell_type": "code",
   "execution_count": 74,
   "id": "e5187fe6",
   "metadata": {},
   "outputs": [],
   "source": [
    "def getcast(doc):\n",
    "    arr = []\n",
    "    for div1tag in doc.find_all('div',class_='ipc-sub-grid ipc-sub-grid--page-span-2 ipc-sub-grid--wraps-at-above-l ipc-shoveler__grid'):\n",
    "        for div2 in div1tag.find_all('div',class_='sc-bfec09a1-5 kUzsHJ'):\n",
    "            for div3 in div2.find_all('div',class_='sc-bfec09a1-7 dpBDvu'):\n",
    "                arr.append(div3.a.text)\n",
    "                \n",
    "\n",
    "    return arr         "
   ]
  },
  {
   "cell_type": "code",
   "execution_count": 76,
   "id": "2752c7cc",
   "metadata": {},
   "outputs": [],
   "source": [
    "def getMovieName(doc):\n",
    "    a = []\n",
    "    for tag in doc.find_all('div',class_='sc-52d569c6-0 kNzJA-D'):\n",
    "        for spantag in tag.find_all('span',class_ = 'sc-afe43def-1 fDTGTb'):\n",
    "            a.append(spantag.text)\n",
    "    return a[0]       "
   ]
  },
  {
   "cell_type": "code",
   "execution_count": 77,
   "id": "8832d7df",
   "metadata": {},
   "outputs": [],
   "source": [
    "def getnameyearoverviewcast(doc):\n",
    "    \n",
    "    top_100_most_popular_movies['Movie Name'].append(getMovieName(doc))\n",
    "\n",
    "    a = []\n",
    "    for ultag in tag.find_all('ul',class_='ipc-inline-list ipc-inline-list--show-dividers sc-afe43def-4 kdXikI baseAlt'):\n",
    "        for litag in ultag.find_all('li',class_='ipc-inline-list__item'):\n",
    "            a.append(litag.text)\n",
    "    top_100_most_popular_movies['Movie Released Year'].append(a[0])\n",
    "       \n",
    "    for spantag in doc.find_all('span',class_= 'sc-cd57914c-2 cXtXlS'):\n",
    "        top_100_most_popular_movies['Movie overview'].append(spantag.text)\n",
    "    \n",
    "    \n",
    "    top_100_most_popular_movies['Movie Cast'].append(getcast(doc))\n",
    "    \n",
    "            \n",
    "    return top_100_most_popular_movies"
   ]
  },
  {
   "cell_type": "code",
   "execution_count": 88,
   "id": "d9885d43",
   "metadata": {},
   "outputs": [],
   "source": [
    "for i in range(100):\n",
    "    response = requests.get(movies_list_df.url[i],headers= headers)\n",
    "    page_content = response.text\n",
    "    doc = BeautifulSoup(page_content,'html.parser')\n",
    "    print('Currently Scrapping>{}'.format(movies_list_df['title'][i]))\n",
    "    top = getnameyearoverviewcast(doc)\n",
    "    "
   ]
  },
  {
   "cell_type": "code",
   "execution_count": 69,
   "id": "166d757b",
   "metadata": {},
   "outputs": [
    {
     "name": "stdout",
     "output_type": "stream",
     "text": [
      "<class 'list'>\n"
     ]
    }
   ],
   "source": [
    "print(type(top_100_most_popular_movies['Movie Name']))"
   ]
  },
  {
   "cell_type": "code",
   "execution_count": 79,
   "id": "49434ef0",
   "metadata": {},
   "outputs": [
    {
     "data": {
      "text/plain": [
       "100"
      ]
     },
     "execution_count": 79,
     "metadata": {},
     "output_type": "execute_result"
    }
   ],
   "source": [
    "len(top_100_most_popular_movies['Movie Cast'])"
   ]
  },
  {
   "cell_type": "code",
   "execution_count": 80,
   "id": "c7ed6123",
   "metadata": {},
   "outputs": [
    {
     "data": {
      "text/plain": [
       "100"
      ]
     },
     "execution_count": 80,
     "metadata": {},
     "output_type": "execute_result"
    }
   ],
   "source": [
    "len(top_100_most_popular_movies['Movie Released Year'])"
   ]
  },
  {
   "cell_type": "code",
   "execution_count": 81,
   "id": "ad458b77",
   "metadata": {},
   "outputs": [
    {
     "data": {
      "text/plain": [
       "100"
      ]
     },
     "execution_count": 81,
     "metadata": {},
     "output_type": "execute_result"
    }
   ],
   "source": [
    "len(top_100_most_popular_movies['Movie overview'])"
   ]
  },
  {
   "cell_type": "code",
   "execution_count": 87,
   "id": "6e88bb5f",
   "metadata": {},
   "outputs": [],
   "source": [
    "top_100_most_popular_movies"
   ]
  },
  {
   "cell_type": "code",
   "execution_count": 83,
   "id": "7588dcc6",
   "metadata": {},
   "outputs": [],
   "source": [
    "a = pd.DataFrame(top_100_most_popular_movies)"
   ]
  },
  {
   "cell_type": "code",
   "execution_count": 84,
   "id": "595c680a",
   "metadata": {},
   "outputs": [
    {
     "data": {
      "text/html": [
       "<div>\n",
       "<style scoped>\n",
       "    .dataframe tbody tr th:only-of-type {\n",
       "        vertical-align: middle;\n",
       "    }\n",
       "\n",
       "    .dataframe tbody tr th {\n",
       "        vertical-align: top;\n",
       "    }\n",
       "\n",
       "    .dataframe thead th {\n",
       "        text-align: right;\n",
       "    }\n",
       "</style>\n",
       "<table border=\"1\" class=\"dataframe\">\n",
       "  <thead>\n",
       "    <tr style=\"text-align: right;\">\n",
       "      <th></th>\n",
       "      <th>Movie Name</th>\n",
       "      <th>Movie Released Year</th>\n",
       "      <th>Movie overview</th>\n",
       "      <th>Movie Cast</th>\n",
       "    </tr>\n",
       "  </thead>\n",
       "  <tbody>\n",
       "    <tr>\n",
       "      <th>0</th>\n",
       "      <td>The Flash</td>\n",
       "      <td>2023</td>\n",
       "      <td>Barry Allen uses his super speed to change the...</td>\n",
       "      <td>[Ezra Miller, Michael Keaton, Sasha Calle, Mic...</td>\n",
       "    </tr>\n",
       "    <tr>\n",
       "      <th>1</th>\n",
       "      <td>Spider-man: Across the Spider-verse</td>\n",
       "      <td>2023</td>\n",
       "      <td>Miles Morales catapults across the Multiverse,...</td>\n",
       "      <td>[Shameik Moore, Hailee Steinfeld, Brian Tyree ...</td>\n",
       "    </tr>\n",
       "    <tr>\n",
       "      <th>2</th>\n",
       "      <td>Transformers: Rise of the Beasts</td>\n",
       "      <td>2023</td>\n",
       "      <td>During the '90s, a new faction of Transformers...</td>\n",
       "      <td>[Anthony Ramos, Dominique Fishback, Luna Laure...</td>\n",
       "    </tr>\n",
       "    <tr>\n",
       "      <th>3</th>\n",
       "      <td>Avatar: The Way of Water</td>\n",
       "      <td>2023</td>\n",
       "      <td>Jake Sully lives with his newfound family form...</td>\n",
       "      <td>[Sam Worthington, Zoe Saldana, Sigourney Weave...</td>\n",
       "    </tr>\n",
       "    <tr>\n",
       "      <th>4</th>\n",
       "      <td>The Little Mermaid</td>\n",
       "      <td>2023</td>\n",
       "      <td>A young mermaid makes a deal with a sea witch ...</td>\n",
       "      <td>[Halle Bailey, Jonah Hauer-King, Melissa McCar...</td>\n",
       "    </tr>\n",
       "    <tr>\n",
       "      <th>...</th>\n",
       "      <td>...</td>\n",
       "      <td>...</td>\n",
       "      <td>...</td>\n",
       "      <td>...</td>\n",
       "    </tr>\n",
       "    <tr>\n",
       "      <th>95</th>\n",
       "      <td>Harry Potter and the Philosopher's Stone</td>\n",
       "      <td>2023</td>\n",
       "      <td>An orphaned boy enrolls in a school of wizardr...</td>\n",
       "      <td>[Daniel Radcliffe, Rupert Grint, Richard Harri...</td>\n",
       "    </tr>\n",
       "    <tr>\n",
       "      <th>96</th>\n",
       "      <td>Joy Ride</td>\n",
       "      <td>2023</td>\n",
       "      <td>Follows four Asian-American friends as they bo...</td>\n",
       "      <td>[Stephanie Hsu, Ashley Park, David Denman, She...</td>\n",
       "    </tr>\n",
       "    <tr>\n",
       "      <th>97</th>\n",
       "      <td>Bumblebee</td>\n",
       "      <td>2023</td>\n",
       "      <td>On the run in the year 1987, Bumblebee finds r...</td>\n",
       "      <td>[Hailee Steinfeld, Jorge Lendeborg Jr., John C...</td>\n",
       "    </tr>\n",
       "    <tr>\n",
       "      <th>98</th>\n",
       "      <td>Indiana Jones and the Last Crusade</td>\n",
       "      <td>2023</td>\n",
       "      <td>In 1938, after his father goes missing while p...</td>\n",
       "      <td>[Harrison Ford, Sean Connery, Alison Doody, De...</td>\n",
       "    </tr>\n",
       "    <tr>\n",
       "      <th>99</th>\n",
       "      <td>Tár</td>\n",
       "      <td>2023</td>\n",
       "      <td>Set in the international world of Western clas...</td>\n",
       "      <td>[Cate Blanchett, Noémie Merlant, Nina Hoss, So...</td>\n",
       "    </tr>\n",
       "  </tbody>\n",
       "</table>\n",
       "<p>100 rows × 4 columns</p>\n",
       "</div>"
      ],
      "text/plain": [
       "                                  Movie Name Movie Released Year  \\\n",
       "0                                  The Flash                2023   \n",
       "1        Spider-man: Across the Spider-verse                2023   \n",
       "2           Transformers: Rise of the Beasts                2023   \n",
       "3                   Avatar: The Way of Water                2023   \n",
       "4                         The Little Mermaid                2023   \n",
       "..                                       ...                 ...   \n",
       "95  Harry Potter and the Philosopher's Stone                2023   \n",
       "96                                  Joy Ride                2023   \n",
       "97                                 Bumblebee                2023   \n",
       "98        Indiana Jones and the Last Crusade                2023   \n",
       "99                                       Tár                2023   \n",
       "\n",
       "                                       Movie overview  \\\n",
       "0   Barry Allen uses his super speed to change the...   \n",
       "1   Miles Morales catapults across the Multiverse,...   \n",
       "2   During the '90s, a new faction of Transformers...   \n",
       "3   Jake Sully lives with his newfound family form...   \n",
       "4   A young mermaid makes a deal with a sea witch ...   \n",
       "..                                                ...   \n",
       "95  An orphaned boy enrolls in a school of wizardr...   \n",
       "96  Follows four Asian-American friends as they bo...   \n",
       "97  On the run in the year 1987, Bumblebee finds r...   \n",
       "98  In 1938, after his father goes missing while p...   \n",
       "99  Set in the international world of Western clas...   \n",
       "\n",
       "                                           Movie Cast  \n",
       "0   [Ezra Miller, Michael Keaton, Sasha Calle, Mic...  \n",
       "1   [Shameik Moore, Hailee Steinfeld, Brian Tyree ...  \n",
       "2   [Anthony Ramos, Dominique Fishback, Luna Laure...  \n",
       "3   [Sam Worthington, Zoe Saldana, Sigourney Weave...  \n",
       "4   [Halle Bailey, Jonah Hauer-King, Melissa McCar...  \n",
       "..                                                ...  \n",
       "95  [Daniel Radcliffe, Rupert Grint, Richard Harri...  \n",
       "96  [Stephanie Hsu, Ashley Park, David Denman, She...  \n",
       "97  [Hailee Steinfeld, Jorge Lendeborg Jr., John C...  \n",
       "98  [Harrison Ford, Sean Connery, Alison Doody, De...  \n",
       "99  [Cate Blanchett, Noémie Merlant, Nina Hoss, So...  \n",
       "\n",
       "[100 rows x 4 columns]"
      ]
     },
     "execution_count": 84,
     "metadata": {},
     "output_type": "execute_result"
    }
   ],
   "source": [
    "a"
   ]
  },
  {
   "cell_type": "code",
   "execution_count": 89,
   "id": "db72679f",
   "metadata": {},
   "outputs": [],
   "source": [
    "a['Movie Cast'][0]"
   ]
  },
  {
   "cell_type": "code",
   "execution_count": 92,
   "id": "b2e7d91a",
   "metadata": {},
   "outputs": [],
   "source": [
    "a.to_csv('movies.csv')"
   ]
  }
 ],
 "metadata": {
  "kernelspec": {
   "display_name": "Python 3 (ipykernel)",
   "language": "python",
   "name": "python3"
  },
  "language_info": {
   "codemirror_mode": {
    "name": "ipython",
    "version": 3
   },
   "file_extension": ".py",
   "mimetype": "text/x-python",
   "name": "python",
   "nbconvert_exporter": "python",
   "pygments_lexer": "ipython3",
   "version": "3.9.12"
  }
 },
 "nbformat": 4,
 "nbformat_minor": 5
}
